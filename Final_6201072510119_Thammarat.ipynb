{
 "cells": [
  {
   "cell_type": "code",
   "execution_count": 21,
   "metadata": {},
   "outputs": [],
   "source": [
    "import numpy as np\n",
    "import cv2\n",
    "import numpy as np\n",
    "import cv2 \n",
    "import scipy\n",
    "import matplotlib.pylab as plt\n",
    "from skimage import io"
   ]
  },
  {
   "cell_type": "code",
   "execution_count": null,
   "metadata": {},
   "outputs": [],
   "source": [
    "vid = cv2.VideoCapture('./videos/final_exam/Dataset-1/left_output-1.avi')\n",
    "template_img = cv2.imread('./images/template.png')\n",
    "template_gray = cv2.cvtColor(template_img, cv2.COLOR_BGR2GRAY)\n",
    "\n",
    "while vid.isOpened() :\n",
    "    ret, query_img = vid.read()\n",
    "    ret, img = vid.read()\n",
    "    query_gray = cv2.cvtColor(query_img, cv2.COLOR_BGR2GRAY)\n",
    "    if ret :\n",
    "        sift = cv2.SIFT_create()\n",
    "        bf = cv2.BFMatcher()\n",
    "        template_kpts, template_desc = sift.detectAndCompute(template_gray, None)\n",
    "        query_kpts, query_desc = sift.detectAndCompute(query_gray, None)\n",
    "        matches = bf.knnMatch(template_desc, query_desc, k=2)\n",
    "        \n",
    "        good_matches = list()\n",
    "        good_matches_list = list()\n",
    "        for m, n in matches :\n",
    "            if m.distance < 0.7*n.distance :\n",
    "                good_matches.append(m)\n",
    "                good_matches_list.append([m])\n",
    "        \n",
    "        if len(good_matches) > 10 :\n",
    "            src_pts = np.float32([ template_kpts[m.queryIdx].pt for m in good_matches ]).reshape(-1,1,2)\n",
    "            dst_pts = np.float32([ query_kpts[m.trainIdx].pt for m in good_matches ]).reshape(-1,1,2)\n",
    "\n",
    "            H, inlier_masks = cv2.findHomography(src_pts, dst_pts, cv2.RANSAC, 10.0) # H RANSAC\n",
    "            # get the bounding box around template image\n",
    "            h, w = template_img.shape[:2]\n",
    "            template_box = np.float32([[0, 0], [0, h-1], [w-1, h-1], [w-1, 0]]).reshape(-1,1,2)\n",
    "            transformed_box = cv2.perspectiveTransform(template_box, H)\n",
    "\n",
    "            detected_img = cv2.polylines(query_img, [np.int32(transformed_box)], True, (0,255,0), 3, cv2.LINE_AA)\n",
    "            \n",
    "            # cv2.imshow('Video frame', detected_img)\n",
    "            cv2.imshow('Video frame', detected_img)\n",
    "\n",
    "        if cv2.waitKey(int(1000/24)) & 0xFF == ord('q') : # this line control the period between image frame\n",
    "            break\n",
    "    else :\n",
    "        break\n",
    "vid.release()\n",
    "cv2.destroyAllWindows()"
   ]
  }
 ],
 "metadata": {
  "interpreter": {
   "hash": "1baa965d5efe3ac65b79dfc60c0d706280b1da80fedb7760faf2759126c4f253"
  },
  "kernelspec": {
   "display_name": "Python 3.8.0 64-bit",
   "language": "python",
   "name": "python3"
  },
  "language_info": {
   "codemirror_mode": {
    "name": "ipython",
    "version": 3
   },
   "file_extension": ".py",
   "mimetype": "text/x-python",
   "name": "python",
   "nbconvert_exporter": "python",
   "pygments_lexer": "ipython3",
   "version": "3.8.0"
  },
  "orig_nbformat": 4
 },
 "nbformat": 4,
 "nbformat_minor": 2
}
